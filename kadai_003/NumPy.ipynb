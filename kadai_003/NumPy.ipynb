{
  "nbformat": 4,
  "nbformat_minor": 0,
  "metadata": {
    "colab": {
      "provenance": []
    },
    "kernelspec": {
      "name": "python3",
      "display_name": "Python 3"
    },
    "language_info": {
      "name": "python"
    }
  },
  "cells": [
    {
      "cell_type": "code",
      "execution_count": 7,
      "metadata": {
        "colab": {
          "base_uri": "https://localhost:8080/"
        },
        "id": "fAT8wRDZQj5Y",
        "outputId": "5a2557b2-0da4-4ee0-dd4f-bcce0472d878"
      },
      "outputs": [
        {
          "output_type": "stream",
          "name": "stdout",
          "text": [
            "[[ 4  5  6  7]\n",
            " [12 17 22 27]\n",
            " [20 29 38 47]]\n"
          ]
        },
        {
          "output_type": "execute_result",
          "data": {
            "text/plain": [
              "47"
            ]
          },
          "metadata": {},
          "execution_count": 7
        }
      ],
      "source": [
        "import numpy as np\n",
        "narrayA = np.array([[0,1],[2,3],[4,5]])\n",
        "narrayB = np.array([[0,1,2,3],[4,5,6,7]])\n",
        "result = np.dot(narrayA, narrayB)\n",
        "print(result)\n",
        "result.max()\n"
      ]
    }
  ]
}